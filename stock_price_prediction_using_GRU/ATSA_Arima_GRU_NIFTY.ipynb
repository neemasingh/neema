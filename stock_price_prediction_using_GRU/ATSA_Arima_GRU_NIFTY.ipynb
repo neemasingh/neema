{
  "nbformat": 4,
  "nbformat_minor": 0,
  "metadata": {
    "colab": {
      "name": " ATSA_Arima_GRU_NIFTY.ipynb",
      "provenance": [],
      "collapsed_sections": [],
      "toc_visible": true,
      "include_colab_link": true
    },
    "kernelspec": {
      "name": "python3",
      "display_name": "Python 3"
    },
    "accelerator": "TPU"
  },
  "cells": [
    {
      "cell_type": "markdown",
      "metadata": {
        "id": "view-in-github",
        "colab_type": "text"
      },
      "source": [
        "<a href=\"https://colab.research.google.com/github/neemasingh/neema/blob/master/stock_price_prediction_using_GRU/ATSA_Arima_GRU_NIFTY.ipynb\" target=\"_parent\"><img src=\"https://colab.research.google.com/assets/colab-badge.svg\" alt=\"Open In Colab\"/></a>"
      ]
    },
    {
      "cell_type": "code",
      "metadata": {
        "id": "gZLRjVVk1Pbk",
        "colab_type": "code",
        "colab": {}
      },
      "source": [
        "import pandas as pd\n",
        "import matplotlib.mlab as mlab\n",
        "import matplotlib.pyplot as plt\n",
        "import numpy as np\n",
        "import math\n",
        "from statsmodels.tsa.stattools import acf, pacf\n",
        "import statsmodels.tsa.stattools as ts\n",
        "from statsmodels.tsa.arima_model import ARIMA\n"
      ],
      "execution_count": 0,
      "outputs": []
    },
    {
      "cell_type": "code",
      "metadata": {
        "id": "xk-jhJFc1Xus",
        "colab_type": "code",
        "outputId": "136fd64b-e30f-42f7-c0a2-aa78adc537ee",
        "colab": {
          "base_uri": "https://localhost:8080/",
          "height": 221
        }
      },
      "source": [
        "variables = pd.read_csv(\"/content/ICICIBANK.NS.csv\")\n",
        "Close =variables [\"Close\"]\n",
        "Close"
      ],
      "execution_count": 0,
      "outputs": [
        {
          "output_type": "execute_result",
          "data": {
            "text/plain": [
              "0      159.945007\n",
              "1      161.464005\n",
              "2      162.699997\n",
              "3      161.164001\n",
              "4      158.899994\n",
              "          ...    \n",
              "234    200.800003\n",
              "235    192.417999\n",
              "236    203.108994\n",
              "237    203.709000\n",
              "238    203.544998\n",
              "Name: Close, Length: 239, dtype: float64"
            ]
          },
          "metadata": {
            "tags": []
          },
          "execution_count": 56
        }
      ]
    },
    {
      "cell_type": "code",
      "metadata": {
        "id": "h-hOLXrB1m9W",
        "colab_type": "code",
        "outputId": "340fdf59-df3a-413e-edae-e21033fb03a9",
        "colab": {
          "base_uri": "https://localhost:8080/",
          "height": 268
        }
      },
      "source": [
        "lnClose=np.log(Close)\n",
        "lnClose\n",
        "plt.plot(lnClose)\n",
        "plt.show()"
      ],
      "execution_count": 0,
      "outputs": [
        {
          "output_type": "display_data",
          "data": {
            "image/png": "[encoded data removed]",
            "text/plain": [
              "<Figure size 432x288 with 1 Axes>"
            ]
          },
          "metadata": {
            "tags": []
          }
        }
      ]
    },
    {
      "cell_type": "code",
      "metadata": {
        "id": "KfEA0D5D1tjm",
        "colab_type": "code",
        "outputId": "4f6a4f11-f1d5-4887-84d0-bcc2934fae1b",
        "colab": {
          "base_uri": "https://localhost:8080/",
          "height": 326
        }
      },
      "source": [
        "acf_1 =  acf(lnClose)[1:20]\n",
        "test_df = pd.DataFrame([acf_1]).T\n",
        "test_df.columns = ['autocorreletion']\n",
        "test_df.index += 1\n",
        "test_df.plot(kind='bar')\n",
        "plt.show()\n"
      ],
      "execution_count": 0,
      "outputs": [
        {
          "output_type": "stream",
          "text": [
            "/usr/local/lib/python3.6/dist-packages/statsmodels/tsa/stattools.py:541: FutureWarning: fft=True will become the default in a future version of statsmodels. To suppress this warning, explicitly set fft=False.\n",
            "  warnings.warn(msg, FutureWarning)\n"
          ],
          "name": "stderr"
        },
        {
          "output_type": "display_data",
          "data": {
            "image/png": "[encoded data removed]",
            "text/plain": [
              "<Figure size 432x288 with 1 Axes>"
            ]
          },
          "metadata": {
            "tags": []
          }
        }
      ]
    },
    {
      "cell_type": "code",
      "metadata": {
        "id": "kc2l9gbl1yzg",
        "colab_type": "code",
        "outputId": "65c9bd75-46a6-4b39-bab2-dad7a03a82dd",
        "colab": {
          "base_uri": "https://localhost:8080/",
          "height": 289
        }
      },
      "source": [
        "pacf_1 = pacf(lnClose)[1:20]\n",
        "test_df = pd.DataFrame([pacf_1]).T\n",
        "test_df.columns = ['Pandas Partial Autocorrelation']\n",
        "test_df.index += 1\n",
        "test_df.plot(kind='bar')\n",
        "plt.show\n"
      ],
      "execution_count": 0,
      "outputs": [
        {
          "output_type": "execute_result",
          "data": {
            "text/plain": [
              "<function matplotlib.pyplot.show>"
            ]
          },
          "metadata": {
            "tags": []
          },
          "execution_count": 59
        },
        {
          "output_type": "display_data",
          "data": {
            "image/png": "[encoded data removed]",
            "text/plain": [
              "<Figure size 432x288 with 1 Axes>"
            ]
          },
          "metadata": {
            "tags": []
          }
        }
      ]
    },
    {
      "cell_type": "code",
      "metadata": {
        "id": "11kGnqqo12Iy",
        "colab_type": "code",
        "outputId": "0129764c-8b12-48dd-f5af-81355685116e",
        "colab": {
          "base_uri": "https://localhost:8080/",
          "height": 577
        }
      },
      "source": [
        "lnClose_diff=lnClose-lnClose.shift(1)\n",
        "diff=lnClose_diff.dropna()\n",
        "acf_1_diff =  acf(diff)[1:20]\n",
        "test_df = pd.DataFrame([acf_1_diff]).T\n",
        "test_df.columns = ['First Difference Autocorrelation']\n",
        "test_df.index += 1\n",
        "test_df.plot(kind='bar')\n",
        "pacf_1_diff =  pacf(diff)[1:20]\n",
        "plt.plot(pacf_1_diff)\n",
        "plt.show()\n",
        "plt.plot(acf_1_diff)\n",
        "plt.show()\n"
      ],
      "execution_count": 0,
      "outputs": [
        {
          "output_type": "stream",
          "text": [
            "/usr/local/lib/python3.6/dist-packages/statsmodels/tsa/stattools.py:541: FutureWarning: fft=True will become the default in a future version of statsmodels. To suppress this warning, explicitly set fft=False.\n",
            "  warnings.warn(msg, FutureWarning)\n"
          ],
          "name": "stderr"
        },
        {
          "output_type": "display_data",
          "data": {
            "image/png": "[encoded data removed]",
            "text/plain": [
              "<Figure size 432x288 with 1 Axes>"
            ]
          },
          "metadata": {
            "tags": []
          }
        },
        {
          "output_type": "display_data",
          "data": {
            "image/png": "[encoded data removed]",
            "text/plain": [
              "<Figure size 432x288 with 1 Axes>"
            ]
          },
          "metadata": {
            "tags": []
          }
        }
      ]
    },
    {
      "cell_type": "code",
      "metadata": {
        "id": "HrTUtz5i13WU",
        "colab_type": "code",
        "outputId": "cfbca609-00cf-466f-a90c-1ef6878d8dbf",
        "colab": {
          "base_uri": "https://localhost:8080/",
          "height": 560
        }
      },
      "source": [
        "price_matrix=lnClose.as_matrix()\n",
        "model = ARIMA(price_matrix, order=(0,1,0))\n",
        "model_fit = model.fit(disp=0)\n",
        "from pandas import DataFrame\n",
        "residuals = DataFrame(model_fit.resid)\n",
        "residuals.plot()\n",
        "plt.show()\n",
        "res = residuals.describe()\n",
        "print(residuals)"
      ],
      "execution_count": 0,
      "outputs": [
        {
          "output_type": "stream",
          "text": [
            "/usr/local/lib/python3.6/dist-packages/ipykernel_launcher.py:1: FutureWarning: Method .as_matrix will be removed in a future version. Use .values instead.\n",
            "  \"\"\"Entry point for launching an IPython kernel.\n"
          ],
          "name": "stderr"
        },
        {
          "output_type": "display_data",
          "data": {
            "image/png": "[encoded data removed]",
            "text/plain": [
              "<Figure size 432x288 with 1 Axes>"
            ]
          },
          "metadata": {
            "tags": []
          }
        },
        {
          "output_type": "stream",
          "text": [
            "            0\n",
            "0    0.008439\n",
            "1    0.006613\n",
            "2   -0.010498\n",
            "3   -0.015160\n",
            "4   -0.006231\n",
            "..        ...\n",
            "233 -0.006521\n",
            "234 -0.043652\n",
            "235  0.053060\n",
            "236  0.001937\n",
            "237 -0.001818\n",
            "\n",
            "[238 rows x 1 columns]\n"
          ],
          "name": "stdout"
        }
      ]
    },
    {
      "cell_type": "code",
      "metadata": {
        "id": "B9N4T2rM2NOu",
        "colab_type": "code",
        "outputId": "439b61cb-d24b-4f42-d9c6-47ff4c45fabe",
        "colab": {
          "base_uri": "https://localhost:8080/",
          "height": 102
        }
      },
      "source": [
        "predictions=model_fit.predict(1, 238, typ='levels')\n",
        "# print(predictions)\n",
        "predictionsadjusted=np.exp(predictions)\n",
        "# print(predictionsadjusted)\n",
        "\n",
        "tmp = []\n",
        "residuals = [];\n",
        "\n",
        "predictions = [np.mean(predictions)] + predictions\n",
        "        \n",
        "residual = pd.Series(np.array(predictionsadjusted) - np.array(predictions))\n",
        "# print(\"resi\")\n",
        "# print(residual)\n",
        "tmp.append(np.array(residual))\n",
        "\n",
        "residuals.append(tmp[0][:238])\n",
        "print(\"Fitted data: \")\n",
        "print(residuals[0][:20])\n",
        "\n",
        "residuals = pd.DataFrame(residuals)\n",
        "\n",
        "import csv\n",
        "\n",
        "np.savetxt(\"/content/residuals.csv\", residuals, delimiter='\\n', header=\"Residuals\", comments=\"\")\n"
      ],
      "execution_count": 0,
      "outputs": [
        {
          "output_type": "stream",
          "text": [
            "Fitted data: \n",
            "[149.86747285 151.37855795 152.60817669 151.08010969 148.82795589\n",
            " 148.00533995 143.18557265 142.80567772 141.83907242 143.13186941\n",
            " 146.91121734 147.30011684 149.55113281 144.984659   142.81561745\n",
            " 141.02563618 133.16141737 133.29759362 140.94411    141.92956961]\n"
          ],
          "name": "stdout"
        }
      ]
    },
    {
      "cell_type": "code",
      "metadata": {
        "id": "w7VRc47lV2DW",
        "colab_type": "code",
        "colab": {}
      },
      "source": [
        "import sys\n",
        "import warnings\n",
        "\n",
        "if not sys.warnoptions:\n",
        "    warnings.simplefilter('ignore')\n"
      ],
      "execution_count": 0,
      "outputs": []
    },
    {
      "cell_type": "code",
      "metadata": {
        "id": "72O4cLXNV6LY",
        "colab_type": "code",
        "colab": {}
      },
      "source": [
        "import tensorflow as tf\n",
        "import numpy as np\n",
        "import matplotlib.pyplot as plt\n",
        "import seaborn as sns\n",
        "import pandas as pd\n",
        "from sklearn.preprocessing import MinMaxScaler\n",
        "from datetime import datetime\n",
        "from datetime import timedelta\n",
        "from tqdm import tqdm\n",
        "sns.set()\n",
        "tf.compat.v1.random.set_random_seed(1234)"
      ],
      "execution_count": 0,
      "outputs": []
    },
    {
      "cell_type": "code",
      "metadata": {
        "id": "Mc2H4kP-V-As",
        "colab_type": "code",
        "outputId": "a2035a3c-d995-4832-86ee-3dcd89bfe43b",
        "colab": {
          "base_uri": "https://localhost:8080/",
          "height": 204
        }
      },
      "source": [
        "df = pd.read_csv('/content/residuals.csv')\n",
        "df.head()"
      ],
      "execution_count": 0,
      "outputs": [
        {
          "output_type": "execute_result",
          "data": {
            "text/html": [
              "<div>\n",
              "<style scoped>\n",
              "    .dataframe tbody tr th:only-of-type {\n",
              "        vertical-align: middle;\n",
              "    }\n",
              "\n",
              "    .dataframe tbody tr th {\n",
              "        vertical-align: top;\n",
              "    }\n",
              "\n",
              "    .dataframe thead th {\n",
              "        text-align: right;\n",
              "    }\n",
              "</style>\n",
              "<table border=\"1\" class=\"dataframe\">\n",
              "  <thead>\n",
              "    <tr style=\"text-align: right;\">\n",
              "      <th></th>\n",
              "      <th>Residuals</th>\n",
              "    </tr>\n",
              "  </thead>\n",
              "  <tbody>\n",
              "    <tr>\n",
              "      <th>0</th>\n",
              "      <td>149.867473</td>\n",
              "    </tr>\n",
              "    <tr>\n",
              "      <th>1</th>\n",
              "      <td>151.378558</td>\n",
              "    </tr>\n",
              "    <tr>\n",
              "      <th>2</th>\n",
              "      <td>152.608177</td>\n",
              "    </tr>\n",
              "    <tr>\n",
              "      <th>3</th>\n",
              "      <td>151.080110</td>\n",
              "    </tr>\n",
              "    <tr>\n",
              "      <th>4</th>\n",
              "      <td>148.827956</td>\n",
              "    </tr>\n",
              "  </tbody>\n",
              "</table>\n",
              "</div>"
            ],
            "text/plain": [
              "    Residuals\n",
              "0  149.867473\n",
              "1  151.378558\n",
              "2  152.608177\n",
              "3  151.080110\n",
              "4  148.827956"
            ]
          },
          "metadata": {
            "tags": []
          },
          "execution_count": 65
        }
      ]
    },
    {
      "cell_type": "code",
      "metadata": {
        "id": "IiCpsQozZaEo",
        "colab_type": "code",
        "outputId": "ce7423a9-63b3-4603-acac-5b88c3f6cca7",
        "colab": {
          "base_uri": "https://localhost:8080/",
          "height": 204
        }
      },
      "source": [
        "minmax = MinMaxScaler().fit(df.iloc[:, 0:1].astype('float32')) # Residual index\n",
        "df_log = minmax.transform(df.iloc[:, 0:1].astype('float32')) # Residual index\n",
        "df_log = pd.DataFrame(df_log)\n",
        "df_log.head()"
      ],
      "execution_count": 0,
      "outputs": [
        {
          "output_type": "execute_result",
          "data": {
            "text/html": [
              "<div>\n",
              "<style scoped>\n",
              "    .dataframe tbody tr th:only-of-type {\n",
              "        vertical-align: middle;\n",
              "    }\n",
              "\n",
              "    .dataframe tbody tr th {\n",
              "        vertical-align: top;\n",
              "    }\n",
              "\n",
              "    .dataframe thead th {\n",
              "        text-align: right;\n",
              "    }\n",
              "</style>\n",
              "<table border=\"1\" class=\"dataframe\">\n",
              "  <thead>\n",
              "    <tr style=\"text-align: right;\">\n",
              "      <th></th>\n",
              "      <th>0</th>\n",
              "    </tr>\n",
              "  </thead>\n",
              "  <tbody>\n",
              "    <tr>\n",
              "      <th>0</th>\n",
              "      <td>0.191536</td>\n",
              "    </tr>\n",
              "    <tr>\n",
              "      <th>1</th>\n",
              "      <td>0.208861</td>\n",
              "    </tr>\n",
              "    <tr>\n",
              "      <th>2</th>\n",
              "      <td>0.222959</td>\n",
              "    </tr>\n",
              "    <tr>\n",
              "      <th>3</th>\n",
              "      <td>0.205439</td>\n",
              "    </tr>\n",
              "    <tr>\n",
              "      <th>4</th>\n",
              "      <td>0.179618</td>\n",
              "    </tr>\n",
              "  </tbody>\n",
              "</table>\n",
              "</div>"
            ],
            "text/plain": [
              "          0\n",
              "0  0.191536\n",
              "1  0.208861\n",
              "2  0.222959\n",
              "3  0.205439\n",
              "4  0.179618"
            ]
          },
          "metadata": {
            "tags": []
          },
          "execution_count": 66
        }
      ]
    },
    {
      "cell_type": "code",
      "metadata": {
        "id": "E-W51uhCffrO",
        "colab_type": "code",
        "outputId": "d850febb-58fd-4e7e-d7b8-713923ffa983",
        "colab": {
          "base_uri": "https://localhost:8080/",
          "height": 34
        }
      },
      "source": [
        "test_size = 20\n",
        "simulation_size = 1\n",
        "\n",
        "df_train = df_log.iloc[:-test_size]\n",
        "df_test = df_log.iloc[-test_size:]\n",
        "df.shape, df_train.shape, df_test.shape"
      ],
      "execution_count": 0,
      "outputs": [
        {
          "output_type": "execute_result",
          "data": {
            "text/plain": [
              "((238, 1), (218, 1), (20, 1))"
            ]
          },
          "metadata": {
            "tags": []
          },
          "execution_count": 67
        }
      ]
    },
    {
      "cell_type": "code",
      "metadata": {
        "id": "-BTEGS_tfmuo",
        "colab_type": "code",
        "colab": {}
      },
      "source": [
        "class Model:\n",
        "    def __init__(\n",
        "        self,\n",
        "        learning_rate,\n",
        "        num_layers,\n",
        "        size,\n",
        "        size_layer,\n",
        "        output_size,\n",
        "        forget_bias = 0.1,\n",
        "    ):\n",
        "        def lstm_cell(size_layer):\n",
        "            return tf.nn.rnn_cell.GRUCell(size_layer)\n",
        "\n",
        "        rnn_cells = tf.nn.rnn_cell.MultiRNNCell(\n",
        "            [lstm_cell(size_layer) for _ in range(num_layers)],\n",
        "            state_is_tuple = False,\n",
        "        )\n",
        "        self.X = tf.placeholder(tf.float32, (None, None, size))\n",
        "        self.Y = tf.placeholder(tf.float32, (None, output_size))\n",
        "        drop = tf.contrib.rnn.DropoutWrapper(\n",
        "            rnn_cells, output_keep_prob = forget_bias\n",
        "        )\n",
        "        self.hidden_layer = tf.placeholder(\n",
        "            tf.float32, (None, num_layers * size_layer)\n",
        "        )\n",
        "        self.outputs, self.last_state = tf.nn.dynamic_rnn(\n",
        "            drop, self.X, initial_state = self.hidden_layer, dtype = tf.float32\n",
        "        )\n",
        "        self.logits = tf.layers.dense(self.outputs[-1], output_size)\n",
        "        self.cost = tf.reduce_mean(tf.square(self.Y - self.logits))\n",
        "        self.optimizer = tf.train.AdamOptimizer(learning_rate).minimize(\n",
        "            self.cost\n",
        "        )\n",
        "\n",
        "from sklearn.metrics import mean_squared_error\n",
        "\n",
        "def calculate_accuracy(real, predict):\n",
        "        real = np.array(real) + 1\n",
        "        predict = np.array(predict) + 1\n",
        "        #error = mean_squared_error(real, predict)\n",
        "        percentage = 1 - np.sqrt(np.mean(np.square((real - predict) / real)))\n",
        "        return percentage * 100\n",
        "\n",
        "def anchor(signal, weight):\n",
        "    buffer = []\n",
        "    last = signal[0]\n",
        "    for i in signal:\n",
        "        smoothed_val = last * weight + (1 - weight) * i\n",
        "        buffer.append(smoothed_val)\n",
        "        last = smoothed_val\n",
        "    return buffer"
      ],
      "execution_count": 0,
      "outputs": []
    },
    {
      "cell_type": "code",
      "metadata": {
        "id": "tlLVKHoCfqfg",
        "colab_type": "code",
        "colab": {}
      },
      "source": [
        "num_layers = 1\n",
        "size_layer = 128\n",
        "timestamp = 5\n",
        "epoch = 50\n",
        "dropout_rate = 0.8\n",
        "future_day = test_size\n",
        "learning_rate = 0.01"
      ],
      "execution_count": 0,
      "outputs": []
    },
    {
      "cell_type": "code",
      "metadata": {
        "id": "QEt-Xt5DftDU",
        "colab_type": "code",
        "colab": {}
      },
      "source": [
        "def forecast():\n",
        "    tf.reset_default_graph()\n",
        "    modelnn = Model(0.01, num_layers, df_log.shape[1], size_layer, df_log.shape[1], dropout_rate)\n",
        "    sess = tf.InteractiveSession()\n",
        "    sess.run(tf.global_variables_initializer())\n",
        "    date_ori = pd.to_datetime(df.iloc[:, 0]).tolist()\n",
        "\n",
        "    pbar = tqdm(range(epoch), desc = 'train loop')\n",
        "    for i in pbar:\n",
        "        init_value = np.zeros((1, num_layers * size_layer))\n",
        "        total_loss, total_acc = [], []\n",
        "        for k in range(0, df_train.shape[0] - 1, timestamp):\n",
        "            index = min(k + timestamp, df_train.shape[0] - 1)\n",
        "            batch_x = np.expand_dims(\n",
        "                df_train.iloc[k : index, :].values, axis = 0\n",
        "            )\n",
        "            batch_y = df_train.iloc[k + 1 : index + 1, :].values\n",
        "            logits, last_state, _, loss = sess.run(\n",
        "                [modelnn.logits, modelnn.last_state, modelnn.optimizer, modelnn.cost],\n",
        "                feed_dict = {\n",
        "                    modelnn.X: batch_x,\n",
        "                    modelnn.Y: batch_y,\n",
        "                    modelnn.hidden_layer: init_value,\n",
        "                },\n",
        "            )        \n",
        "            init_value = last_state\n",
        "            total_loss.append(loss)\n",
        "            total_acc.append(calculate_accuracy(batch_y[:, 0], logits[:, 0]))\n",
        "        pbar.set_postfix(cost = np.mean(total_loss), acc = np.mean(total_acc))\n",
        "    \n",
        "    future_day = test_size\n",
        "\n",
        "    output_predict = np.zeros((df_train.shape[0] + future_day, df_train.shape[1]))\n",
        "    output_predict[0] = df_train.iloc[0]\n",
        "    upper_b = (df_train.shape[0] // timestamp) * timestamp\n",
        "    init_value = np.zeros((1, num_layers * size_layer))\n",
        "\n",
        "    for k in range(0, (df_train.shape[0] // timestamp) * timestamp, timestamp):\n",
        "        out_logits, last_state = sess.run(\n",
        "            [modelnn.logits, modelnn.last_state],\n",
        "            feed_dict = {\n",
        "                modelnn.X: np.expand_dims(\n",
        "                    df_train.iloc[k : k + timestamp], axis = 0\n",
        "                ),\n",
        "                modelnn.hidden_layer: init_value,\n",
        "            },\n",
        "        )\n",
        "        init_value = last_state\n",
        "        output_predict[k + 1 : k + timestamp + 1] = out_logits\n",
        "\n",
        "    if upper_b != df_train.shape[0]:\n",
        "        out_logits, last_state = sess.run(\n",
        "            [modelnn.logits, modelnn.last_state],\n",
        "            feed_dict = {\n",
        "                modelnn.X: np.expand_dims(df_train.iloc[upper_b:], axis = 0),\n",
        "                modelnn.hidden_layer: init_value,\n",
        "            },\n",
        "        )\n",
        "        output_predict[upper_b + 1 : df_train.shape[0] + 1] = out_logits\n",
        "        future_day -= 1\n",
        "        date_ori.append(date_ori[-1] + timedelta(days = 1))\n",
        "\n",
        "    init_value = last_state\n",
        "    \n",
        "    for i in range(future_day):\n",
        "        o = output_predict[-future_day - timestamp + i:-future_day + i]\n",
        "        out_logits, last_state = sess.run(\n",
        "            [modelnn.logits, modelnn.last_state],\n",
        "            feed_dict = {\n",
        "                modelnn.X: np.expand_dims(o, axis = 0),\n",
        "                modelnn.hidden_layer: init_value,\n",
        "            },\n",
        "        )\n",
        "        init_value = last_state\n",
        "        output_predict[-future_day + i] = out_logits[-1]\n",
        "        date_ori.append(date_ori[-1] + timedelta(days = 1))\n",
        "    \n",
        "    output_predict = minmax.inverse_transform(output_predict)\n",
        "    deep_future = anchor(output_predict[:, 0], 0.3)\n",
        "    \n",
        "    return deep_future[-test_size:]"
      ],
      "execution_count": 0,
      "outputs": []
    },
    {
      "cell_type": "code",
      "metadata": {
        "id": "iWioZBI0fu2k",
        "colab_type": "code",
        "outputId": "60651d9b-20ea-4807-faf7-4dfb93a523e7",
        "colab": {
          "base_uri": "https://localhost:8080/",
          "height": 105
        }
      },
      "source": [
        "results = []\n",
        "for i in range(simulation_size):\n",
        "    print('simulation %d'%(i+1))\n",
        "    results.append(forecast())"
      ],
      "execution_count": 0,
      "outputs": [
        {
          "output_type": "stream",
          "text": [
            "simulation 1\n"
          ],
          "name": "stdout"
        },
        {
          "output_type": "stream",
          "text": [
            "/usr/local/lib/python3.6/dist-packages/tensorflow_core/python/client/session.py:1750: UserWarning: An interactive session is already active. This can cause out-of-memory errors in some cases. You must explicitly call `InteractiveSession.close()` to release resources held by the other session(s).\n",
            "  warnings.warn('An interactive session is already active. This can '\n",
            "train loop: 100%|██████████| 50/50 [00:09<00:00,  5.53it/s, acc=97, cost=0.00175]\n"
          ],
          "name": "stderr"
        }
      ]
    },
    {
      "cell_type": "code",
      "metadata": {
        "id": "WzXbADWUf6L4",
        "colab_type": "code",
        "outputId": "d2da3406-e059-4244-97f1-1caa67f96649",
        "colab": {
          "base_uri": "https://localhost:8080/",
          "height": 34
        }
      },
      "source": [
        "#accuracies = [calculate_accuracy(df['Residuals'].iloc[-test_size:].values, r) for r in results]\n",
        "\n",
        "accuracies = [calculate_accuracy(variables [\"Close\"].iloc[-test_size:].values, r) for r in results]\n",
        "\n",
        "#plt.figure(figsize = (15, 5))\n",
        "#for no, r in enumerate(results):\n",
        "    #plt.plot(r, label = 'forecast %d'%(no + 1))\n",
        "    \n",
        "#plt.plot(df['Residuals'].iloc[-test_size:].values, label = 'true trend', c = 'black')\n",
        "#plt.legend()\n",
        "print(\"Accuracy : \", np.mean(accuracies), \" %\")\n",
        "#plt.show()"
      ],
      "execution_count": 0,
      "outputs": [
        {
          "output_type": "stream",
          "text": [
            "Accuracy :  76.93545882200524  %\n"
          ],
          "name": "stdout"
        }
      ]
    },
    {
      "cell_type": "code",
      "metadata": {
        "id": "uxqblDkb61Xo",
        "colab_type": "code",
        "colab": {}
      },
      "source": [
        ""
      ],
      "execution_count": 0,
      "outputs": []
    }
  ]
}