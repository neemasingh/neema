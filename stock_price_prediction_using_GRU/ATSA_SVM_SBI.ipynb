{
  "nbformat": 4,
  "nbformat_minor": 0,
  "metadata": {
    "colab": {
      "name": "ATSA_SVM_SBI.ipynb",
      "provenance": [],
      "collapsed_sections": [],
      "include_colab_link": true
    },
    "kernelspec": {
      "name": "python3",
      "display_name": "Python 3"
    },
    "accelerator": "TPU"
  },
  "cells": [
    {
      "cell_type": "markdown",
      "metadata": {
        "id": "view-in-github",
        "colab_type": "text"
      },
      "source": [
        "<a href=\"https://colab.research.google.com/github/neemasingh/neema/blob/master/stock_price_prediction_using_GRU/ATSA_SVM_SBI.ipynb\" target=\"_parent\"><img src=\"https://colab.research.google.com/assets/colab-badge.svg\" alt=\"Open In Colab\"/></a>"
      ]
    },
    {
      "cell_type": "code",
      "metadata": {
        "id": "fxiXn4bEHWKa",
        "colab_type": "code",
        "colab": {}
      },
      "source": [
        "from pandas import read_csv\n",
        "from pandas import datetime\n",
        "from pandas import DataFrame\n",
        "from statsmodels.tsa.arima_model import ARIMA\n",
        "from matplotlib import pyplot as plt\n",
        "from pandas.plotting import autocorrelation_plot\n",
        "from sklearn.metrics import mean_squared_error\n",
        "import numpy as np\n",
        "from sklearn.svm import SVR\n",
        "from sklearn.metrics import accuracy_score\n",
        "from sklearn.feature_extraction.text import TfidfTransformer\n",
        "from sklearn.multiclass import OneVsRestClassifier\n",
        "import warnings\n",
        "warnings.filterwarnings(\"ignore\")"
      ],
      "execution_count": 0,
      "outputs": []
    },
    {
      "cell_type": "code",
      "metadata": {
        "id": "p_1T3ECGwbZB",
        "colab_type": "code",
        "outputId": "ee5ca1bc-a0ad-4820-ca43-5c9b72cf2343",
        "colab": {
          "base_uri": "https://localhost:8080/",
          "height": 255
        }
      },
      "source": [
        "series = read_csv('/content/ICICIBANK.NS.csv')\n",
        "print (series)"
      ],
      "execution_count": 0,
      "outputs": [
        {
          "output_type": "stream",
          "text": [
            "          Close\n",
            "0    159.945007\n",
            "1    161.464005\n",
            "2    162.699997\n",
            "3    161.164001\n",
            "4    158.899994\n",
            "..          ...\n",
            "234  200.800003\n",
            "235  192.417999\n",
            "236  203.108994\n",
            "237  203.709000\n",
            "238  203.544998\n",
            "\n",
            "[239 rows x 1 columns]\n"
          ],
          "name": "stdout"
        }
      ]
    },
    {
      "cell_type": "code",
      "metadata": {
        "id": "atCliLA_wZhb",
        "colab_type": "code",
        "outputId": "d4d8e466-9ff5-4e7f-df1c-cacf804b5298",
        "colab": {
          "base_uri": "https://localhost:8080/",
          "height": 34
        }
      },
      "source": [
        "from matplotlib import pyplot\n",
        "series = np.array(series)\n",
        "series = series[0:50]\n",
        "epsilon = 0.2 # if the difference between predicted value and true value>epsilon in ARIMA, feed into SVR\n",
        "outlier = list()\n",
        "\n",
        "size = 20\n",
        "train = series[0:size]\n",
        "test =  series[size:len(series)]\n",
        "true_data = list()\n",
        "history = list()\n",
        "predictions = list()\n",
        "start_point = 10\n",
        "for i in range(0,start_point):\n",
        "    history.append(train[i])\n",
        "\n",
        "for t in range(start_point,len(train)):\n",
        "    model = ARIMA(history, order=(0,1,0)) # arima order means that it is a random walk\n",
        "    model_fit = model.fit()\n",
        "    output = model_fit.forecast()\n",
        "    yhat = output[0]\n",
        "    if abs(yhat-train[t]) > epsilon :\n",
        "       outlier.append(train[t]) #if a point is outlier, put its index into the set\n",
        "               \n",
        "\n",
        "history = list()\n",
        "history.append(outlier[0])\n",
        "\n",
        "sum = 0\n",
        "\n",
        "for t in range(1, len(outlier)):\n",
        "    predicted_data = np.arange(len(history),len(history)+1)\n",
        "    predicted_data = np.expand_dims(predicted_data,axis=1)\n",
        "    train_data = np.arange(0,len(history))\n",
        "    train_data = np.expand_dims(train_data,axis=1)\n",
        "    svr = SVR(kernel='linear', C=1e3, gamma = 1/1250)\n",
        "    yhat = svr.fit(train_data,history).predict(predicted_data)\n",
        "    true_data.append(outlier[t]) # replace train data into true data\n",
        "    percentage = 1 - np.sqrt(np.mean(np.square((true_data - yhat) / true_data)))\n",
        "    sum = sum + percentage\n",
        "\n",
        "print(\"Accuracy : \", (sum/len(outlier))*100, \" %\")\n",
        "\n"
      ],
      "execution_count": 0,
      "outputs": [
        {
          "output_type": "stream",
          "text": [
            "Accuracy :  87.28705564740635  %\n"
          ],
          "name": "stdout"
        }
      ]
    },
    {
      "cell_type": "code",
      "metadata": {
        "id": "8iVn-ukpQ8CV",
        "colab_type": "code",
        "colab": {}
      },
      "source": [
        ""
      ],
      "execution_count": 0,
      "outputs": []
    }
  ]
}